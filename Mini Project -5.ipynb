{
 "cells": [
  {
   "cell_type": "code",
   "execution_count": 3,
   "metadata": {
    "scrolled": false
   },
   "outputs": [],
   "source": [
    "import pandas as pd\n",
    "import numpy as np\n",
    "import pandas as pd\n",
    "import matplotlib.pyplot as plt   #pyplot is a module inside matplotlib\n",
    "from sklearn import metrics\n",
    "from sklearn.metrics import mean_squared_error\n",
    "from math import sqrt\n",
    "\n",
    "data=pd.read_csv('Taxi_train.csv',error_bad_lines=False)\n",
    "x=data.iloc[:900000,0:10].values\n",
    "y=data.iloc[:900000,10].values"
   ]
  },
  {
   "cell_type": "code",
   "execution_count": 12,
   "metadata": {},
   "outputs": [],
   "source": [
    "from sklearn.preprocessing import LabelEncoder\n",
    "x_encoder =LabelEncoder()\n",
    "x[:,0]=x_encoder.fit_transform(x[:,0])\n",
    "x[:,2]=x_encoder.fit_transform(x[:,2])\n",
    "x[:,3]=x_encoder.fit_transform(x[:,3])\n",
    "x[:,9]=x_encoder.fit_transform(x[:,9])\n",
    "\n",
    "from sklearn.cross_validation import train_test_split\n",
    "x_train, x_test, y_train, y_test = train_test_split (x, y, test_size = 1/4,random_state = 26)\n"
   ]
  },
  {
   "cell_type": "code",
   "execution_count": 13,
   "metadata": {},
   "outputs": [
    {
     "name": "stdout",
     "output_type": "stream",
     "text": [
      "RMSE is:-\n",
      "890.9146331804199\n"
     ]
    }
   ],
   "source": [
    "from sklearn.linear_model import LinearRegression\n",
    "regressor = LinearRegression()\n",
    "regressor.fit (x_train, y_train ) \n",
    "\n",
    "predictedValues = regressor.predict(x_test)\n",
    "print(\"RMSE is:-\") \n",
    "print(np.sqrt(metrics.mean_squared_error(y_test, predictedValues)))"
   ]
  },
  {
   "cell_type": "code",
   "execution_count": null,
   "metadata": {},
   "outputs": [],
   "source": [
    "from sklearn.preprocessing import PolynomialFeatures\n",
    "poly_reg = PolynomialFeatures(degree = 5)\n",
    "\n",
    "x_poly=poly_reg.fit_transform(x_train)\n",
    "poly_reg.fit(x_poly,y_train)\n",
    "regressor = LinearRegression()\n",
    "regressor.fit(x_poly,y_train)\n",
    "# x_poly1=poly_reg.fit_transform(x_test)\n",
    "# x_poly1\n",
    "predictedValues=regressor.predict(x_poly1)\n",
    "print(\"RMSE is:-\") \n",
    "print(np.sqrt(metrics.mean_squared_error(y_test, predictedValues)))"
   ]
  },
  {
   "cell_type": "code",
   "execution_count": null,
   "metadata": {},
   "outputs": [],
   "source": [
    "from sklearn.preprocessing import PolynomialFeatures\n",
    "pa = PolynomialFeatures(degree = 2)\n",
    "x_poly = pa.fit_transform(x_train)"
   ]
  },
  {
   "cell_type": "code",
   "execution_count": 6,
   "metadata": {},
   "outputs": [
    {
     "name": "stdout",
     "output_type": "stream",
     "text": [
      "1.0\n",
      "RMSE is:-\n",
      "4552.405433825067\n"
     ]
    }
   ],
   "source": [
    "from sklearn.tree import DecisionTreeRegressor\n",
    "model = DecisionTreeRegressor()\n",
    "model = model.fit(x_train, y_train)\n",
    "print(model.score(x_train, y_train))\n",
    "#Predict Output\n",
    "prediction= model.predict(x_test)\n",
    "print(\"RMSE is:-\") \n",
    "print(np.sqrt(metrics.mean_squared_error(y_test, prediction)))\n",
    "\n",
    "# from sklearn.metrics import accuracy_score\n",
    "# print(accuracy_score(prediction, y_test))\n",
    "# from sklearn.metrics import confusion_matrix\n",
    "# confusion_matrix(y_test, predicted)"
   ]
  },
  {
   "cell_type": "code",
   "execution_count": null,
   "metadata": {},
   "outputs": [],
   "source": [
    "from sklearn.ensemble import RandomForstRegressor"
   ]
  }
 ],
 "metadata": {
  "kernelspec": {
   "display_name": "Python 3",
   "language": "python",
   "name": "python3"
  },
  "language_info": {
   "codemirror_mode": {
    "name": "ipython",
    "version": 3
   },
   "file_extension": ".py",
   "mimetype": "text/x-python",
   "name": "python",
   "nbconvert_exporter": "python",
   "pygments_lexer": "ipython3",
   "version": "3.6.5"
  }
 },
 "nbformat": 4,
 "nbformat_minor": 2
}
