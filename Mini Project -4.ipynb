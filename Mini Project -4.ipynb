{
 "cells": [
  {
   "cell_type": "code",
   "execution_count": 140,
   "metadata": {},
   "outputs": [],
   "source": [
    "import pandas as pd\n",
    "df= pd.read_csv('flag_data.csv')\n",
    "from sklearn.preprocessing import LabelEncoder\n",
    "df1=df.values"
   ]
  },
  {
   "cell_type": "code",
   "execution_count": 106,
   "metadata": {},
   "outputs": [
    {
     "name": "stdout",
     "output_type": "stream",
     "text": [
      "[221625265.78368795, 72402320.81702128, 22936044.565079372, 11844604.402384989, 8860807.997437086, 5897360.34626562, 4165896.506855501, 3246522.4085069275, 2535894.1910839193, 2045325.3181367028]\n"
     ]
    },
    {
     "data": {
      "image/png": "[encoded data removed]",
      "text/plain": [
       "<Figure size 432x288 with 1 Axes>"
      ]
     },
     "metadata": {},
     "output_type": "display_data"
    }
   ],
   "source": [
    "wccs= []\n",
    "iv=df.iloc[:,1:30].values\n",
    "x_encoder =LabelEncoder()\n",
    "iv[:,16]=x_encoder.fit_transform(iv[:,16])\n",
    "iv[:,16]\n",
    "iv[:,27]=x_encoder.fit_transform(iv[:,27])\n",
    "iv[:,27]\n",
    "iv[:,28]=x_encoder.fit_transform(iv[:,28])\n",
    "iv[:,28]\n",
    "from sklearn.cluster import KMeans\n",
    "\n",
    "for i in range(2,12) :\n",
    "    kmeans = KMeans(n_clusters = i , init = 'k-means++' , n_init =10 ,max_iter =300 , random_state =0 )\n",
    "    kmeans.fit(iv)\n",
    "    wccs.append(kmeans.inertia_)\n",
    "print(wccs)\n",
    "\n",
    "import matplotlib.pyplot as plt\n",
    "\n",
    "plt.plot(range(2,12),wccs)\n",
    "plt.title(\"The Elbow Plot\")\n",
    "plt.xlabel(\"Number of Clusters\")\n",
    "plt.ylabel(\"Within Sum of Squares\")\n",
    "plt.show()\n",
    "cols=['landmass','zone','area','population','language','religion','bars','stripes','colours',\n",
    "      'red','green','blue','gold','white','black','orange','mainhue','circles','crosses','saltires',\n",
    "      'quarters','sunstars','crescent','triangle','icon','animate','text','topleft','botright'] \n",
    "iv = pd.DataFrame(iv,columns=cols)\n",
    "\n",
    "\n",
    "\n"
   ]
  },
  {
   "cell_type": "code",
   "execution_count": 107,
   "metadata": {},
   "outputs": [
    {
     "data": {
      "image/png": "[encoded data removed]",
      "text/plain": [
       "<Figure size 432x288 with 1 Axes>"
      ]
     },
     "metadata": {},
     "output_type": "display_data"
    }
   ],
   "source": [
    "kmeans = KMeans(n_clusters = 4 , init = 'k-means++' , n_init =10 ,max_iter =300 , random_state =0 )\n",
    "iv['cluster']=kmeans.fit_predict(iv)\n",
    "import matplotlib.pyplot as plt\n",
    "plt.scatter(iv.loc[iv['cluster']==0,'landmass'],iv.loc[iv['cluster']==0,'zone'],s=100,c='red',label='Careful')\n",
    "plt.scatter(iv.loc[iv['cluster']==0,'area'],iv.loc[iv['cluster']==0,'population'],s=100,c='red',label='Careful')\n",
    "plt.scatter(iv.loc[iv['cluster']==0,'language'],iv.loc[iv['cluster']==0,'religion'],s=100,c='red',label='Careful')\n",
    "plt.scatter(iv.loc[iv['cluster']==0,'bars'],iv.loc[iv['cluster']==0,'stripes'],s=100,c='red',label='Careful')\n",
    "plt.scatter(iv.loc[iv['cluster']==0,'colours'],iv.loc[iv['cluster']==0,'red'],s=100,c='red',label='Careful')\n",
    "plt.scatter(iv.loc[iv['cluster']==0,'green'],iv.loc[iv['cluster']==0,'blue'],s=100,c='red',label='Careful')\n",
    "plt.scatter(iv.loc[iv['cluster']==0,'gold'],iv.loc[iv['cluster']==0,'white'],s=100,c='red',label='Careful')\n",
    "plt.scatter(iv.loc[iv['cluster']==0,'black'],iv.loc[iv['cluster']==0,'orange'],s=100,c='red',label='Careful')\n",
    "plt.scatter(iv.loc[iv['cluster']==0,'mainhue'],iv.loc[iv['cluster']==0,'circles'],s=100,c='red',label='Careful')\n",
    "plt.scatter(iv.loc[iv['cluster']==0,'crosses'],iv.loc[iv['cluster']==0,'saltires'],s=100,c='red',label='Careful')\n",
    "plt.scatter(iv.loc[iv['cluster']==0,'quarters'],iv.loc[iv['cluster']==0,'sunstars'],s=100,c='red',label='Careful')\n",
    "plt.scatter(iv.loc[iv['cluster']==0,'crescent'],iv.loc[iv['cluster']==0,'triangle'],s=100,c='red',label='Careful')\n",
    "plt.scatter(iv.loc[iv['cluster']==0,'icon'],iv.loc[iv['cluster']==0,'animate'],s=100,c='red',label='Careful')\n",
    "plt.scatter(iv.loc[iv['cluster']==0,'text'],iv.loc[iv['cluster']==0,'topleft'],s=100,c='red',label='Careful')\n",
    "#plt.scatter(iv.loc[iv['cluster']==0,'botright']s=100,c='red',label='Careful')\n",
    "\n",
    "plt.scatter(iv.loc[iv['cluster']==1,'landmass'],iv.loc[iv['cluster']==1,'zone'],s=100,c='green',label='Standard')\n",
    "plt.scatter(iv.loc[iv['cluster']==1,'area'],iv.loc[iv['cluster']==1,'population'],s=100,c='green',label='Standard')\n",
    "plt.scatter(iv.loc[iv['cluster']==1,'language'],iv.loc[iv['cluster']==1,'religion'],s=100,c='green',label='Standard')\n",
    "plt.scatter(iv.loc[iv['cluster']==1,'bars'],iv.loc[iv['cluster']==1,'stripes'],s=100,c='green',label='Standard')\n",
    "plt.scatter(iv.loc[iv['cluster']==1,'colours'],iv.loc[iv['cluster']==1,'red'],s=100,c='green',label='Standard')\n",
    "plt.scatter(iv.loc[iv['cluster']==1,'green'],iv.loc[iv['cluster']==1,'blue'],s=100,c='green',label='Standard')\n",
    "plt.scatter(iv.loc[iv['cluster']==1,'gold'],iv.loc[iv['cluster']==1,'white'],s=100,c='green',label='Standard')\n",
    "plt.scatter(iv.loc[iv['cluster']==1,'black'],iv.loc[iv['cluster']==1,'orange'],s=100,c='green',label='Standard')\n",
    "plt.scatter(iv.loc[iv['cluster']==1,'mainhue'],iv.loc[iv['cluster']==1,'circles'],s=100,c='green',label='Standard')\n",
    "plt.scatter(iv.loc[iv['cluster']==1,'crosses'],iv.loc[iv['cluster']==1,'saltires'],s=100,c='green',label='Standard')\n",
    "plt.scatter(iv.loc[iv['cluster']==1,'quarters'],iv.loc[iv['cluster']==1,'sunstars'],s=100,c='green',label='Standard')\n",
    "plt.scatter(iv.loc[iv['cluster']==1,'crescent'],iv.loc[iv['cluster']==1,'triangle'],s=100,c='green',label='Standard')\n",
    "plt.scatter(iv.loc[iv['cluster']==1,'icon'],iv.loc[iv['cluster']==1,'animate'],s=100,c='green',label='Standard')\n",
    "plt.scatter(iv.loc[iv['cluster']==1,'text'],iv.loc[iv['cluster']==1,'topleft'],s=100,c='green',label='Standard')\n",
    "#plt.scatter(iv.loc[iv['cluster']==1,'botright'],s=100,c='green',label='Standard'),s=100,c='green',label='Standard')\n",
    "\n",
    "            \n",
    "plt.scatter(iv.loc[iv['cluster']==2,'landmass'],iv.loc[iv['cluster']==2,'zone'] ,s=100,c='blue',label='Target')\n",
    "plt.scatter(iv.loc[iv['cluster']==2,'area'],iv.loc[iv['cluster']==2,'population'],s=100,c='blue',label='Target')\n",
    "plt.scatter(iv.loc[iv['cluster']==2,'language'],iv.loc[iv['cluster']==2,'religion'],s=100,c='blue',label='Target')\n",
    "plt.scatter(iv.loc[iv['cluster']==2,'bars'],iv.loc[iv['cluster']==2,'stripes'],s=100,c='blue',label='Target')\n",
    "plt.scatter(iv.loc[iv['cluster']==2,'colours'],iv.loc[iv['cluster']==2,'red'],s=100,c='blue',label='Target')\n",
    "plt.scatter(iv.loc[iv['cluster']==2,'green'],iv.loc[iv['cluster']==2,'blue'],s=100,c='blue',label='Target')\n",
    "plt.scatter(iv.loc[iv['cluster']==2,'gold'],iv.loc[iv['cluster']==2,'white'],s=100,c='blue',label='Target')\n",
    "plt.scatter(iv.loc[iv['cluster']==2,'black'],iv.loc[iv['cluster']==2,'orange'],s=100,c='blue',label='Target')\n",
    "plt.scatter(iv.loc[iv['cluster']==2,'mainhue'],iv.loc[iv['cluster']==2,'circles'],s=100,c='blue',label='Target')\n",
    "plt.scatter(iv.loc[iv['cluster']==2,'crosses'],iv.loc[iv['cluster']==2,'saltires'],s=100,c='blue',label='Target')\n",
    "plt.scatter(iv.loc[iv['cluster']==2,'quarters'],iv.loc[iv['cluster']==2,'sunstars'],s=100,c='blue',label='Target')\n",
    "plt.scatter(iv.loc[iv['cluster']==2,'crescent'],iv.loc[iv['cluster']==2,'triangle'],s=100,c='blue',label='Target')\n",
    "plt.scatter(iv.loc[iv['cluster']==2,'icon'],iv.loc[iv['cluster']==2,'animate'],s=100,c='blue',label='Target')\n",
    "plt.scatter(iv.loc[iv['cluster']==2,'text'],iv.loc[iv['cluster']==2,'topleft'],s=100,c='blue',label='Target')\n",
    "#plt.scatter(iv.loc[iv['cluster']==2,'botright'],s=100,c='blue',label='Target')\n",
    "\n",
    "plt.scatter(iv.loc[iv['cluster']==3,'landmass'],iv.loc[iv['cluster']==3,'zone'],s=100,c='grey',label='Careless')\n",
    "plt.scatter(iv.loc[iv['cluster']==3,'area'],iv.loc[iv['cluster']==3,'population'],s=100,c='grey',label='Careless')\n",
    "plt.scatter(iv.loc[iv['cluster']==3,'language'],iv.loc[iv['cluster']==3,'religion'],s=100,c='grey',label='Careless')\n",
    "plt.scatter(iv.loc[iv['cluster']==3,'bars'],iv.loc[iv['cluster']==3,'stripes'],s=100,c='grey',label='Careless')\n",
    "plt.scatter(iv.loc[iv['cluster']==3,'colours'],iv.loc[iv['cluster']==3,'red'],s=100,c='grey',label='Careless')\n",
    "plt.scatter(iv.loc[iv['cluster']==3,'green'],iv.loc[iv['cluster']==3,'blue'],s=100,c='grey',label='Careless')\n",
    "plt.scatter(iv.loc[iv['cluster']==3,'gold'],iv.loc[iv['cluster']==3,'white'],s=100,c='grey',label='Careless')\n",
    "plt.scatter(iv.loc[iv['cluster']==3,'black'],iv.loc[iv['cluster']==3,'orange'],s=100,c='grey',label='Careless')\n",
    "plt.scatter(iv.loc[iv['cluster']==3,'mainhue'],iv.loc[iv['cluster']==3,'circles'],s=100,c='grey',label='Careless')\n",
    "plt.scatter(iv.loc[iv['cluster']==3,'crosses'],iv.loc[iv['cluster']==3,'saltires'],s=100,c='grey',label='Careless')\n",
    "plt.scatter(iv.loc[iv['cluster']==3,'quarters'],iv.loc[iv['cluster']==3,'sunstars'],s=100,c='grey',label='Careless')\n",
    "plt.scatter(iv.loc[iv['cluster']==3,'crescent'],iv.loc[iv['cluster']==3,'triangle'],s=100,c='grey',label='Careless')\n",
    "plt.scatter(iv.loc[iv['cluster']==3,'icon'],iv.loc[iv['cluster']==3,'animate'],s=100,c='grey',label='Careless')\n",
    "plt.scatter(iv.loc[iv['cluster']==3,'text'],iv.loc[iv['cluster']==3,'topleft'],s=100,c='grey',label='Careless')\n",
    "#plt.scatter(iv.loc[iv['cluster']==3,'botright'],s=100,c='grey',label='Careless')\n",
    "             \n",
    "           \n",
    "plt.scatter(kmeans.cluster_centers_[:,0],kmeans.cluster_centers_[:,1], s=100,c='yellow',label='center')\n",
    "plt.title(\"Results of K Means Clustering\")\n",
    "plt.xlabel(\"Annual Income\")\n",
    "plt.ylabel(\"Spending Score\")\n",
    "#plt.legend()\n",
    "plt.show()\n"
   ]
  },
  {
   "cell_type": "code",
   "execution_count": 83,
   "metadata": {},
   "outputs": [
    {
     "name": "stdout",
     "output_type": "stream",
     "text": [
      "4    52\n",
      "5    39\n",
      "3    35\n",
      "1    31\n",
      "6    20\n",
      "2    17\n",
      "Name: landmass, dtype: int64\n"
     ]
    }
   ],
   "source": [
    "# A. Count number of countries based on landmass.\n",
    "items_counts = df['landmass'].value_counts()\n",
    "print(items_counts)"
   ]
  },
  {
   "cell_type": "code",
   "execution_count": 155,
   "metadata": {},
   "outputs": [
    {
     "name": "stderr",
     "output_type": "stream",
     "text": [
      "E:\\ANACONDA3\\lib\\site-packages\\ipykernel_launcher.py:4: SettingWithCopyWarning: \n",
      "A value is trying to be set on a copy of a slice from a DataFrame.\n",
      "Try using .loc[row_indexer,col_indexer] = value instead\n",
      "\n",
      "See the caveats in the documentation: http://pandas.pydata.org/pandas-docs/stable/indexing.html#indexing-view-versus-copy\n",
      "  after removing the cwd from sys.path.\n"
     ]
    },
    {
     "data": {
      "text/plain": [
       "105    14\n",
       "183    13\n",
       "99     11\n",
       "68      9\n",
       "181     9\n",
       "Name: sum, dtype: int64"
      ]
     },
     "execution_count": 155,
     "metadata": {},
     "output_type": "execute_result"
    }
   ],
   "source": [
    "# B. Find out top 5 country with Sum of bars and strips in a flag.\n",
    "df\n",
    "df1=df.iloc[:,[7,8]]\n",
    "df1['sum'] = df['bars'] + df1['stripes']\n",
    "df1\n",
    "test = df1.sort_values(['sum'], ascending=[False])\n",
    "# test = df.sort_values(['one'], ascending=[0])\n",
    "final_sum=test.iloc[:5,2]\n",
    "final_sum"
   ]
  },
  {
   "cell_type": "code",
   "execution_count": 146,
   "metadata": {},
   "outputs": [
    {
     "name": "stdout",
     "output_type": "stream",
     "text": [
      "49\n"
     ]
    }
   ],
   "source": [
    "# C. Count of countries with icon.\n",
    "df.columns=['Name','landmass','zone','area','population','language','religion','bars','stripes','colours',\n",
    "      'red','green','blue','gold','white','black','orange','mainhue','circles','crosses','saltires',\n",
    "      'quarters','sunstars','crescent','triangle','icon','animate','text','topleft','botright']\n",
    "\n",
    "filtered = df.query(\"icon > 0\")\n",
    "print(filtered.shape[0])\n"
   ]
  },
  {
   "cell_type": "code",
   "execution_count": 147,
   "metadata": {},
   "outputs": [
    {
     "name": "stdout",
     "output_type": "stream",
     "text": [
      "76\n"
     ]
    }
   ],
   "source": [
    "# D. Count of countries which have same top left and top right color in flag.\n",
    "filtered=df.query (\"topleft == botright\")\n",
    "print(filtered.shape[0])\n"
   ]
  },
  {
   "cell_type": "code",
   "execution_count": 148,
   "metadata": {},
   "outputs": [
    {
     "name": "stdout",
     "output_type": "stream",
     "text": [
      "1    91\n",
      "4    58\n",
      "2    29\n",
      "3    16\n",
      "Name: zone, dtype: int64\n"
     ]
    }
   ],
   "source": [
    "# E. Count number of countries based on zone.\n",
    "items_counts = df['zone'].value_counts()\n",
    "print(items_counts)\n"
   ]
  },
  {
   "cell_type": "code",
   "execution_count": 149,
   "metadata": {},
   "outputs": [
    {
     "data": {
      "text/html": [
       "<div>\n",
       "<style scoped>\n",
       "    .dataframe tbody tr th:only-of-type {\n",
       "        vertical-align: middle;\n",
       "    }\n",
       "\n",
       "    .dataframe tbody tr th {\n",
       "        vertical-align: top;\n",
       "    }\n",
       "\n",
       "    .dataframe thead th {\n",
       "        text-align: right;\n",
       "    }\n",
       "</style>\n",
       "<table border=\"1\" class=\"dataframe\">\n",
       "  <thead>\n",
       "    <tr style=\"text-align: right;\">\n",
       "      <th></th>\n",
       "      <th>Name</th>\n",
       "      <th>landmass</th>\n",
       "      <th>zone</th>\n",
       "      <th>area</th>\n",
       "      <th>population</th>\n",
       "      <th>language</th>\n",
       "      <th>religion</th>\n",
       "      <th>bars</th>\n",
       "      <th>stripes</th>\n",
       "      <th>colours</th>\n",
       "      <th>...</th>\n",
       "      <th>saltires</th>\n",
       "      <th>quarters</th>\n",
       "      <th>sunstars</th>\n",
       "      <th>crescent</th>\n",
       "      <th>triangle</th>\n",
       "      <th>icon</th>\n",
       "      <th>animate</th>\n",
       "      <th>text</th>\n",
       "      <th>topleft</th>\n",
       "      <th>botright</th>\n",
       "    </tr>\n",
       "  </thead>\n",
       "  <tbody>\n",
       "    <tr>\n",
       "      <th>184</th>\n",
       "      <td>USSR</td>\n",
       "      <td>5</td>\n",
       "      <td>1</td>\n",
       "      <td>22402</td>\n",
       "      <td>274</td>\n",
       "      <td>5</td>\n",
       "      <td>6</td>\n",
       "      <td>0</td>\n",
       "      <td>0</td>\n",
       "      <td>2</td>\n",
       "      <td>...</td>\n",
       "      <td>0</td>\n",
       "      <td>0</td>\n",
       "      <td>1</td>\n",
       "      <td>0</td>\n",
       "      <td>0</td>\n",
       "      <td>1</td>\n",
       "      <td>0</td>\n",
       "      <td>0</td>\n",
       "      <td>red</td>\n",
       "      <td>red</td>\n",
       "    </tr>\n",
       "  </tbody>\n",
       "</table>\n",
       "<p>1 rows × 30 columns</p>\n",
       "</div>"
      ],
      "text/plain": [
       "     Name  landmass  zone   area  population  language  religion  bars  \\\n",
       "184  USSR         5     1  22402         274         5         6     0   \n",
       "\n",
       "     stripes  colours    ...     saltires  quarters  sunstars  crescent  \\\n",
       "184        0        2    ...            0         0         1         0   \n",
       "\n",
       "     triangle  icon  animate text  topleft  botright  \n",
       "184         0     1        0    0      red       red  \n",
       "\n",
       "[1 rows x 30 columns]"
      ]
     },
     "execution_count": 149,
     "metadata": {},
     "output_type": "execute_result"
    }
   ],
   "source": [
    "# F. Find out largest county in terms of area in NE zone.\n",
    "filtered =df.query(\"zone == 1\")\n",
    "df1=filtered.iloc[:,3]\n",
    "df1.max()\n",
    "filtered =filtered.query(\"area == 22402\")\n",
    "filtered"
   ]
  },
  {
   "cell_type": "code",
   "execution_count": 150,
   "metadata": {
    "scrolled": true
   },
   "outputs": [
    {
     "data": {
      "text/html": [
       "<div>\n",
       "<style scoped>\n",
       "    .dataframe tbody tr th:only-of-type {\n",
       "        vertical-align: middle;\n",
       "    }\n",
       "\n",
       "    .dataframe tbody tr th {\n",
       "        vertical-align: top;\n",
       "    }\n",
       "\n",
       "    .dataframe thead th {\n",
       "        text-align: right;\n",
       "    }\n",
       "</style>\n",
       "<table border=\"1\" class=\"dataframe\">\n",
       "  <thead>\n",
       "    <tr style=\"text-align: right;\">\n",
       "      <th></th>\n",
       "      <th>Name</th>\n",
       "      <th>landmass</th>\n",
       "      <th>zone</th>\n",
       "      <th>area</th>\n",
       "      <th>population</th>\n",
       "      <th>language</th>\n",
       "      <th>religion</th>\n",
       "      <th>bars</th>\n",
       "      <th>stripes</th>\n",
       "      <th>colours</th>\n",
       "      <th>...</th>\n",
       "      <th>saltires</th>\n",
       "      <th>quarters</th>\n",
       "      <th>sunstars</th>\n",
       "      <th>crescent</th>\n",
       "      <th>triangle</th>\n",
       "      <th>icon</th>\n",
       "      <th>animate</th>\n",
       "      <th>text</th>\n",
       "      <th>topleft</th>\n",
       "      <th>botright</th>\n",
       "    </tr>\n",
       "  </thead>\n",
       "  <tbody>\n",
       "    <tr>\n",
       "      <th>39</th>\n",
       "      <td>Comorro-Islands</td>\n",
       "      <td>4</td>\n",
       "      <td>2</td>\n",
       "      <td>2</td>\n",
       "      <td>0</td>\n",
       "      <td>3</td>\n",
       "      <td>2</td>\n",
       "      <td>0</td>\n",
       "      <td>0</td>\n",
       "      <td>2</td>\n",
       "      <td>...</td>\n",
       "      <td>0</td>\n",
       "      <td>0</td>\n",
       "      <td>4</td>\n",
       "      <td>1</td>\n",
       "      <td>0</td>\n",
       "      <td>0</td>\n",
       "      <td>0</td>\n",
       "      <td>0</td>\n",
       "      <td>green</td>\n",
       "      <td>green</td>\n",
       "    </tr>\n",
       "    <tr>\n",
       "      <th>119</th>\n",
       "      <td>Nauru</td>\n",
       "      <td>6</td>\n",
       "      <td>2</td>\n",
       "      <td>0</td>\n",
       "      <td>0</td>\n",
       "      <td>10</td>\n",
       "      <td>1</td>\n",
       "      <td>0</td>\n",
       "      <td>3</td>\n",
       "      <td>3</td>\n",
       "      <td>...</td>\n",
       "      <td>0</td>\n",
       "      <td>0</td>\n",
       "      <td>1</td>\n",
       "      <td>0</td>\n",
       "      <td>0</td>\n",
       "      <td>0</td>\n",
       "      <td>0</td>\n",
       "      <td>0</td>\n",
       "      <td>blue</td>\n",
       "      <td>blue</td>\n",
       "    </tr>\n",
       "    <tr>\n",
       "      <th>148</th>\n",
       "      <td>Seychelles</td>\n",
       "      <td>4</td>\n",
       "      <td>2</td>\n",
       "      <td>0</td>\n",
       "      <td>0</td>\n",
       "      <td>1</td>\n",
       "      <td>1</td>\n",
       "      <td>0</td>\n",
       "      <td>0</td>\n",
       "      <td>3</td>\n",
       "      <td>...</td>\n",
       "      <td>0</td>\n",
       "      <td>0</td>\n",
       "      <td>0</td>\n",
       "      <td>0</td>\n",
       "      <td>0</td>\n",
       "      <td>0</td>\n",
       "      <td>0</td>\n",
       "      <td>0</td>\n",
       "      <td>red</td>\n",
       "      <td>green</td>\n",
       "    </tr>\n",
       "    <tr>\n",
       "      <th>151</th>\n",
       "      <td>Soloman-Islands</td>\n",
       "      <td>6</td>\n",
       "      <td>2</td>\n",
       "      <td>30</td>\n",
       "      <td>0</td>\n",
       "      <td>1</td>\n",
       "      <td>1</td>\n",
       "      <td>0</td>\n",
       "      <td>0</td>\n",
       "      <td>4</td>\n",
       "      <td>...</td>\n",
       "      <td>0</td>\n",
       "      <td>0</td>\n",
       "      <td>5</td>\n",
       "      <td>0</td>\n",
       "      <td>1</td>\n",
       "      <td>0</td>\n",
       "      <td>0</td>\n",
       "      <td>0</td>\n",
       "      <td>blue</td>\n",
       "      <td>green</td>\n",
       "    </tr>\n",
       "    <tr>\n",
       "      <th>172</th>\n",
       "      <td>Tonga</td>\n",
       "      <td>6</td>\n",
       "      <td>2</td>\n",
       "      <td>1</td>\n",
       "      <td>0</td>\n",
       "      <td>10</td>\n",
       "      <td>1</td>\n",
       "      <td>0</td>\n",
       "      <td>0</td>\n",
       "      <td>2</td>\n",
       "      <td>...</td>\n",
       "      <td>0</td>\n",
       "      <td>1</td>\n",
       "      <td>0</td>\n",
       "      <td>0</td>\n",
       "      <td>0</td>\n",
       "      <td>0</td>\n",
       "      <td>0</td>\n",
       "      <td>0</td>\n",
       "      <td>white</td>\n",
       "      <td>red</td>\n",
       "    </tr>\n",
       "    <tr>\n",
       "      <th>177</th>\n",
       "      <td>Tuvalu</td>\n",
       "      <td>6</td>\n",
       "      <td>2</td>\n",
       "      <td>0</td>\n",
       "      <td>0</td>\n",
       "      <td>1</td>\n",
       "      <td>1</td>\n",
       "      <td>0</td>\n",
       "      <td>0</td>\n",
       "      <td>5</td>\n",
       "      <td>...</td>\n",
       "      <td>1</td>\n",
       "      <td>1</td>\n",
       "      <td>9</td>\n",
       "      <td>0</td>\n",
       "      <td>0</td>\n",
       "      <td>0</td>\n",
       "      <td>0</td>\n",
       "      <td>0</td>\n",
       "      <td>white</td>\n",
       "      <td>blue</td>\n",
       "    </tr>\n",
       "    <tr>\n",
       "      <th>185</th>\n",
       "      <td>Vanuatu</td>\n",
       "      <td>6</td>\n",
       "      <td>2</td>\n",
       "      <td>15</td>\n",
       "      <td>0</td>\n",
       "      <td>6</td>\n",
       "      <td>1</td>\n",
       "      <td>0</td>\n",
       "      <td>0</td>\n",
       "      <td>4</td>\n",
       "      <td>...</td>\n",
       "      <td>0</td>\n",
       "      <td>0</td>\n",
       "      <td>0</td>\n",
       "      <td>0</td>\n",
       "      <td>1</td>\n",
       "      <td>0</td>\n",
       "      <td>1</td>\n",
       "      <td>0</td>\n",
       "      <td>black</td>\n",
       "      <td>green</td>\n",
       "    </tr>\n",
       "  </tbody>\n",
       "</table>\n",
       "<p>7 rows × 30 columns</p>\n",
       "</div>"
      ],
      "text/plain": [
       "                Name  landmass  zone  area  population  language  religion  \\\n",
       "39   Comorro-Islands         4     2     2           0         3         2   \n",
       "119            Nauru         6     2     0           0        10         1   \n",
       "148       Seychelles         4     2     0           0         1         1   \n",
       "151  Soloman-Islands         6     2    30           0         1         1   \n",
       "172            Tonga         6     2     1           0        10         1   \n",
       "177           Tuvalu         6     2     0           0         1         1   \n",
       "185          Vanuatu         6     2    15           0         6         1   \n",
       "\n",
       "     bars  stripes  colours    ...     saltires  quarters  sunstars  crescent  \\\n",
       "39      0        0        2    ...            0         0         4         1   \n",
       "119     0        3        3    ...            0         0         1         0   \n",
       "148     0        0        3    ...            0         0         0         0   \n",
       "151     0        0        4    ...            0         0         5         0   \n",
       "172     0        0        2    ...            0         1         0         0   \n",
       "177     0        0        5    ...            1         1         9         0   \n",
       "185     0        0        4    ...            0         0         0         0   \n",
       "\n",
       "     triangle  icon  animate text  topleft  botright  \n",
       "39          0     0        0    0    green     green  \n",
       "119         0     0        0    0     blue      blue  \n",
       "148         0     0        0    0      red     green  \n",
       "151         1     0        0    0     blue     green  \n",
       "172         0     0        0    0    white       red  \n",
       "177         0     0        0    0    white      blue  \n",
       "185         1     0        1    0    black     green  \n",
       "\n",
       "[7 rows x 30 columns]"
      ]
     },
     "execution_count": 150,
     "metadata": {},
     "output_type": "execute_result"
    }
   ],
   "source": [
    "# G. Find out least populated country in S.America landmass.\n",
    "filtered =df.query(\"zone == 2\")\n",
    "filtered\n",
    "df1=filtered.iloc[:,4]\n",
    "df1\n",
    "df1.min()\n",
    "filtered =filtered.query(\"population == 0\")\n",
    "filtered"
   ]
  },
  {
   "cell_type": "code",
   "execution_count": 151,
   "metadata": {},
   "outputs": [
    {
     "name": "stdout",
     "output_type": "stream",
     "text": [
      "10    46\n",
      "1     43\n",
      "6     30\n",
      "2     21\n",
      "8     19\n",
      "3     17\n",
      "4      6\n",
      "9      4\n",
      "7      4\n",
      "5      4\n",
      "Name: language, dtype: int64\n",
      "Here we can see Others(represented by 10) is the most spoken language.\n"
     ]
    }
   ],
   "source": [
    "# H. Find out largest speaking language among all countries.\n",
    "items_counts = df['language'].value_counts()\n",
    "print(items_counts)\n",
    "print(\"Here we can see Others(represented by 10) is the most spoken language.\")"
   ]
  },
  {
   "cell_type": "code",
   "execution_count": 80,
   "metadata": {},
   "outputs": [
    {
     "name": "stdout",
     "output_type": "stream",
     "text": [
      "3    75\n",
      "4    44\n",
      "2    42\n",
      "5    15\n",
      "6     9\n",
      "7     7\n",
      "8     1\n",
      "1     1\n",
      "Name: colours, dtype: int64\n",
      "Here we can see the colour 3 is counted 75 times\n"
     ]
    }
   ],
   "source": [
    "# I. Find most common colour among flags from all countries.\n",
    "filtered=df.iloc[9]\n",
    "items_counts = df['colours'].value_counts()\n",
    "max_item = items_counts.max()\n",
    "print(items_counts)\n",
    "print(\"Here we can see the colour 3 is counted 75 times\")"
   ]
  },
  {
   "cell_type": "code",
   "execution_count": 153,
   "metadata": {},
   "outputs": [
    {
     "name": "stdout",
     "output_type": "stream",
     "text": [
      "33\n"
     ]
    }
   ],
   "source": [
    "# J. Sum of all circles present in all country flags.\n",
    "filtered =df.iloc[:, 18]\n",
    "print(filtered.sum())"
   ]
  },
  {
   "cell_type": "code",
   "execution_count": 152,
   "metadata": {},
   "outputs": [
    {
     "name": "stdout",
     "output_type": "stream",
     "text": [
      "13\n"
     ]
    }
   ],
   "source": [
    "# K. Count of countries which have both icon and text in flag.\n",
    "filtered = df.query(\"icon > 0\")\n",
    "filtered =filtered.query(\"text > 0\")\n",
    "print(filtered.shape[0])"
   ]
  }
 ],
 "metadata": {
  "kernelspec": {
   "display_name": "Python 3",
   "language": "python",
   "name": "python3"
  },
  "language_info": {
   "codemirror_mode": {
    "name": "ipython",
    "version": 3
   },
   "file_extension": ".py",
   "mimetype": "text/x-python",
   "name": "python",
   "nbconvert_exporter": "python",
   "pygments_lexer": "ipython3",
   "version": "3.6.5"
  }
 },
 "nbformat": 4,
 "nbformat_minor": 2
}
