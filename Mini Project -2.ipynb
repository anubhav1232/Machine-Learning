{
 "cells": [
  {
   "cell_type": "code",
   "execution_count": 2,
   "metadata": {},
   "outputs": [
    {
     "name": "stderr",
     "output_type": "stream",
     "text": [
      "E:\\ANACONDA3\\lib\\site-packages\\sklearn\\cross_validation.py:41: DeprecationWarning: This module was deprecated in version 0.18 in favor of the model_selection module into which all the refactored classes and functions are moved. Also note that the interface of the new CV iterators are different from that of this module. This module will be removed in 0.20.\n",
      "  \"This module will be removed in 0.20.\", DeprecationWarning)\n"
     ]
    }
   ],
   "source": [
    "import pandas as pd\n",
    "import numpy as np\n",
    "import pandas as pd\n",
    "import matplotlib.pyplot as plt   #pyplot is a module inside matplotlib\n",
    "from sklearn import metrics\n",
    "from sklearn.metrics import mean_squared_error\n",
    "from math import sqrt\n",
    "\n",
    "data=pd.read_csv('Diabetes.csv')\n",
    "x=data.iloc[:,0:8].values\n",
    "y=data.iloc[:,8].values\n",
    "\n",
    "from sklearn.cross_validation import train_test_split\n",
    "x_train, x_test, y_train, y_test = train_test_split (x, y, test_size = 1/4, \n",
    "                                                     random_state = 0)"
   ]
  },
  {
   "cell_type": "code",
   "execution_count": null,
   "metadata": {},
   "outputs": [],
   "source": [
    "from sklearn.ensemble import RandomForestRegressor"
   ]
  },
  {
   "cell_type": "code",
   "execution_count": 4,
   "metadata": {},
   "outputs": [
    {
     "name": "stdout",
     "output_type": "stream",
     "text": [
      "RMSE is:-\n",
      "0.384458793775082\n"
     ]
    }
   ],
   "source": [
    "from sklearn.linear_model import LinearRegression\n",
    "regressor = LinearRegression()\n",
    "regressor.fit (x_train, y_train ) \n",
    "\n",
    "predictedValues = regressor.predict(x_test)\n",
    "print(\"RMSE is:-\") \n",
    "print(np.sqrt(metrics.mean_squared_error(y_test, predictedValues)))\n"
   ]
  },
  {
   "cell_type": "code",
   "execution_count": 5,
   "metadata": {},
   "outputs": [
    {
     "name": "stdout",
     "output_type": "stream",
     "text": [
      "RMSE is:-\n",
      "198.44760994240613\n"
     ]
    }
   ],
   "source": [
    "from sklearn.preprocessing import PolynomialFeatures\n",
    "poly_reg = PolynomialFeatures(degree = 5)\n",
    "poly_reg.fit(x_train,y_train)\n",
    "x_poly=poly_reg.fit_transform(x_train)\n",
    "regressor = LinearRegression()\n",
    "regressor.fit(x_poly,y_train)\n",
    "x_poly1=poly_reg.fit_transform(x_test)\n",
    "x_poly1\n",
    "predictedValues=regressor.predict(x_poly1)\n",
    "print(\"RMSE is:-\") \n",
    "print(np.sqrt(metrics.mean_squared_error(y_test, predictedValues)))"
   ]
  },
  {
   "cell_type": "code",
   "execution_count": 5,
   "metadata": {},
   "outputs": [
    {
     "name": "stdout",
     "output_type": "stream",
     "text": [
      "0.7569444444444444\n",
      "RMSE is:-\n",
      "0.4389855730355308\n"
     ]
    }
   ],
   "source": [
    "from sklearn.linear_model import LogisticRegression\n",
    "LR = LogisticRegression (random_state = 0)\n",
    "LR.fit (x_train, y_train)\n",
    "print(LR.score (x_train, y_train))\n",
    "\n",
    "prediction = LR.predict (x_test)\n",
    "print(\"RMSE is:-\") \n",
    "print(np.sqrt(metrics.mean_squared_error(y_test, prediction)))"
   ]
  },
  {
   "cell_type": "code",
   "execution_count": 8,
   "metadata": {},
   "outputs": [
    {
     "name": "stdout",
     "output_type": "stream",
     "text": [
      "1.0\n",
      "RMSE is:-\n",
      "0.5204164998665332\n",
      "0.7291666666666666\n"
     ]
    },
    {
     "data": {
      "text/plain": [
       "array([[102,  28],\n",
       "       [ 24,  38]], dtype=int64)"
      ]
     },
     "execution_count": 8,
     "metadata": {},
     "output_type": "execute_result"
    }
   ],
   "source": [
    "from sklearn.tree import DecisionTreeClassifier\n",
    "model = DecisionTreeClassifier(criterion='gini')\n",
    "model.fit(x_train, y_train)\n",
    "print(model.score(x_train, y_train))\n",
    "#Predict Output\n",
    "prediction= model.predict(x_test)\n",
    "print(\"RMSE is:-\") \n",
    "print(np.sqrt(metrics.mean_squared_error(y_test, prediction)))\n",
    "\n",
    "from sklearn.metrics import accuracy_score\n",
    "print(accuracy_score(prediction, y_test))\n",
    "from sklearn.metrics import confusion_matrix\n",
    "confusion_matrix(y_test, predicted)"
   ]
  }
 ],
 "metadata": {
  "kernelspec": {
   "display_name": "Python 3",
   "language": "python",
   "name": "python3"
  },
  "language_info": {
   "codemirror_mode": {
    "name": "ipython",
    "version": 3
   },
   "file_extension": ".py",
   "mimetype": "text/x-python",
   "name": "python",
   "nbconvert_exporter": "python",
   "pygments_lexer": "ipython3",
   "version": "3.6.5"
  }
 },
 "nbformat": 4,
 "nbformat_minor": 2
}
